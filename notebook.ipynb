{
 "cells": [
  {
   "cell_type": "markdown",
   "id": "2aa5dd94-7af3-45b5-8916-654af8e2a2aa",
   "metadata": {},
   "source": [
    "### Step 1: Install libraries "
   ]
  },
  {
   "cell_type": "code",
   "execution_count": null,
   "id": "d66cdb3f-d1bb-4a2d-b9b2-24f037ca6659",
   "metadata": {},
   "outputs": [],
   "source": [
    "pip install shap xgboost boto3 mlflow"
   ]
  },
  {
   "cell_type": "markdown",
   "id": "fdc026f3-e275-4ea7-af01-7df4c6ff4682",
   "metadata": {},
   "source": [
    "### Step 2: Import everything"
   ]
  },
  {
   "cell_type": "code",
   "execution_count": null,
   "id": "b9d5f578-6339-450c-ad0b-382180254197",
   "metadata": {},
   "outputs": [],
   "source": [
    "import xgboost\n",
    "import shap\n",
    "import mlflow\n",
    "from sklearn.model_selection import train_test_split"
   ]
  },
  {
   "cell_type": "markdown",
   "id": "d291217f-66d7-42c5-b4ee-596a1f26bdb8",
   "metadata": {},
   "source": [
    "### Step 3: Set experiment"
   ]
  },
  {
   "cell_type": "code",
   "execution_count": null,
   "id": "c63ec036-7f7a-4d1e-a4e9-fff99dd74382",
   "metadata": {},
   "outputs": [],
   "source": [
    "mlflow.set_experiment('demo-new')  "
   ]
  },
  {
   "cell_type": "markdown",
   "id": "46ff1ce2-ace9-4bff-a4a8-91760e8afee1",
   "metadata": {},
   "source": [
    "### Step 4: Get data"
   ]
  },
  {
   "cell_type": "code",
   "execution_count": null,
   "id": "2dfa3f7e-098b-4d05-a212-d595db52471f",
   "metadata": {},
   "outputs": [],
   "source": [
    "# load UCI Adult Data Set; segment it into training and test sets\n",
    "X, y = shap.datasets.adult()\n",
    "X_train, X_test, y_train, y_test = train_test_split(X, y, test_size=0.33, random_state=42)"
   ]
  },
  {
   "cell_type": "markdown",
   "id": "b8a61568-d020-44f8-9c75-c44b4e5361fc",
   "metadata": {},
   "source": [
    "### Step 5: Train model"
   ]
  },
  {
   "cell_type": "code",
   "execution_count": null,
   "id": "9c0a56a7-8a68-4a31-b12a-34146563c6c3",
   "metadata": {},
   "outputs": [],
   "source": [
    "# train XGBoost model\n",
    "model = xgboost.XGBClassifier().fit(X_train, y_train)\n",
    "\n",
    "# construct an evaluation dataset from the test set\n",
    "eval_data = X_test\n",
    "eval_data[\"target\"] = y_test"
   ]
  },
  {
   "cell_type": "code",
   "execution_count": null,
   "id": "a65f27ed-2f38-4162-b232-9a8f211c3763",
   "metadata": {},
   "outputs": [],
   "source": [
    "# view data sample\n",
    "X_test.head(5)"
   ]
  },
  {
   "cell_type": "markdown",
   "id": "7560b95c-f1e4-4b92-8bc0-c5ee76ede0bf",
   "metadata": {},
   "source": [
    "### Step 6: Make a run"
   ]
  },
  {
   "cell_type": "code",
   "execution_count": null,
   "id": "0a79c0de-71e1-417d-b70f-0fb0eccac5aa",
   "metadata": {},
   "outputs": [],
   "source": [
    "with mlflow.start_run() as run:\n",
    "   model_info = mlflow.sklearn.log_model(model, \"model\")\n",
    "   result = mlflow.evaluate(\n",
    "       model_info.model_uri,\n",
    "       eval_data,\n",
    "       targets=\"target\",\n",
    "       model_type=\"classifier\",\n",
    "       dataset_name=\"adult\",\n",
    "       evaluators=[\"default\"],\n",
    "   )"
   ]
  },
  {
   "cell_type": "markdown",
   "id": "19f7ce15-b79f-4c2d-a59d-f4e6be0b8dcd",
   "metadata": {},
   "source": [
    "### Step 7: Make changes and re-run"
   ]
  },
  {
   "cell_type": "code",
   "execution_count": null,
   "id": "27ba6055-e770-4a93-ba4e-6fa05330452b",
   "metadata": {},
   "outputs": [],
   "source": [
    "# re-train\n",
    "X_train, X_test, y_train, y_test = train_test_split(X, y, test_size=0.53, random_state=52)\n",
    "model = xgboost.XGBClassifier().fit(X_train, y_train)\n",
    "\n",
    "with mlflow.start_run() as run:\n",
    "   model_info = mlflow.sklearn.log_model(model, \"model\")\n",
    "   result = mlflow.evaluate(\n",
    "       model_info.model_uri,\n",
    "       eval_data,\n",
    "       targets=\"target\",\n",
    "       model_type=\"classifier\",\n",
    "       dataset_name=\"adult\",\n",
    "       evaluators=[\"default\"],\n",
    "   )"
   ]
  },
  {
   "cell_type": "markdown",
   "id": "2a2d4460-efb6-486e-8685-da3bd5cc2ed8",
   "metadata": {},
   "source": [
    "### Step 8: Run a service"
   ]
  },
  {
   "cell_type": "code",
   "execution_count": null,
   "id": "5678f17b-6c40-41f1-b1a2-bf699badc39c",
   "metadata": {},
   "outputs": [],
   "source": [
    "# test request\n",
    "{\n",
    "  \"data\": {\n",
    "    \"names\": [\n",
    "       \"Age\", \"Workclass\", \"Education-Num\", \"Marital Status\", \"Occupation\", \"Relationship\", \"Race\", \"Sex\", \"Capital Gain\", \"Capital Loss\", \"Hours per week\", \"Country\"\n",
    "    ],\n",
    "    \"tensor\": {\n",
    "      \"shape\": [\n",
    "        1,\n",
    "        12\n",
    "      ],\n",
    "      \"values\": [\n",
    "        27.0, 4, 10.0, 0, 1, 0, 4, 0, 0.0, 0.0, 38.0, 39\n",
    "      ]\n",
    "    }\n",
    "  }\n",
    "}"
   ]
  }
 ],
 "metadata": {
  "kernelspec": {
   "display_name": "Python 3",
   "language": "python",
   "name": "python3"
  },
  "language_info": {
   "codemirror_mode": {
    "name": "ipython",
    "version": 3
   },
   "file_extension": ".py",
   "mimetype": "text/x-python",
   "name": "python",
   "nbconvert_exporter": "python",
   "pygments_lexer": "ipython3",
   "version": "3.8.10"
  }
 },
 "nbformat": 4,
 "nbformat_minor": 5
}
